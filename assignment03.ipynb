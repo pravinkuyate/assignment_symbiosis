{
 "cells": [
  {
   "cell_type": "code",
   "execution_count": 1,
   "id": "de4728f4",
   "metadata": {},
   "outputs": [
    {
     "name": "stdout",
     "output_type": "stream",
     "text": [
      "lenght in cm10\n",
      "breadth in cm10\n",
      "area of ractangle is 100 cm^2\n"
     ]
    }
   ],
   "source": [
    "#area of ractangle\n",
    "l=int(input(\"lenght in cm\"))\n",
    "b=int(input(\"breadth in cm\"))\n",
    "a=l*b\n",
    "print(f\"area of ractangle is {a} cm^2\")"
   ]
  },
  {
   "cell_type": "code",
   "execution_count": 2,
   "id": "49d53390",
   "metadata": {},
   "outputs": [
    {
     "name": "stdout",
     "output_type": "stream",
     "text": [
      "enter the redius10\n",
      "area of circle is 314.0\n"
     ]
    }
   ],
   "source": [
    "#area of circle\n",
    "r=int(input(\"enter the redius\"))\n",
    "a=3.14*(r*r)\n",
    "print(f\"area of circle is {a}\")\n"
   ]
  },
  {
   "cell_type": "code",
   "execution_count": 3,
   "id": "b2e9e797",
   "metadata": {},
   "outputs": [
    {
     "name": "stdout",
     "output_type": "stream",
     "text": [
      "enter the lenght10\n",
      "enter the breadth20\n",
      "enter the height10\n",
      "the area of cuboid is 1000\n"
     ]
    }
   ],
   "source": [
    "#area of cuboid\n",
    "l=int(input(\"enter the lenght\"))\n",
    "b=int(input(\"enter the breadth\"))\n",
    "h=int(input(\"enter the height\"))\n",
    "a=2*(l*b+b*h+h*l)\n",
    "print(f\"the area of cuboid is {a}\")"
   ]
  },
  {
   "cell_type": "code",
   "execution_count": 5,
   "id": "134884a8",
   "metadata": {},
   "outputs": [
    {
     "name": "stdout",
     "output_type": "stream",
     "text": [
      "enter the lenght of cube15\n",
      "the area of cube is  1350\n"
     ]
    }
   ],
   "source": [
    "#area of cube\n",
    "a=int(input(\"enter the lenght of cube\"))\n",
    "x=6*(a*a)\n",
    "print(\"the area of cube is \",x)"
   ]
  },
  {
   "cell_type": "code",
   "execution_count": 7,
   "id": "f136fdc8",
   "metadata": {},
   "outputs": [
    {
     "name": "stdout",
     "output_type": "stream",
     "text": [
      "enter the redius5\n",
      "enter the height23\n",
      "area of CSA cylinder is  722.2\n"
     ]
    }
   ],
   "source": [
    "#WAP area of CSA cyclinder\n",
    "r=int(input(\"enter the redius\"))\n",
    "h=int(input(\"enter the height\"))\n",
    "a=2*(3.14*(r*h))\n",
    "print(\"area of CSA cylinder is \",a)"
   ]
  },
  {
   "cell_type": "code",
   "execution_count": 10,
   "id": "cac12109",
   "metadata": {},
   "outputs": [
    {
     "name": "stdout",
     "output_type": "stream",
     "text": [
      "enter the redius5\n",
      "enter the height6\n",
      "area of TSA cylinder is  345.40000000000003\n"
     ]
    }
   ],
   "source": [
    "#WAP area of TSA cyclinder\n",
    "r=int(input(\"enter the redius\"))\n",
    "h=int(input(\"enter the height\"))\n",
    "a=2*(3.14*r*(r+h))\n",
    "print(\"area of TSA cylinder is \",a)"
   ]
  },
  {
   "cell_type": "code",
   "execution_count": 11,
   "id": "746bfc76",
   "metadata": {},
   "outputs": [
    {
     "name": "stdout",
     "output_type": "stream",
     "text": [
      "enter the redius5\n",
      "enter the lenght5\n",
      "area of CSA cone is  78.5\n"
     ]
    }
   ],
   "source": [
    "#WAP area of CSA CONE\n",
    "r=int(input(\"enter the redius\"))\n",
    "l=int(input(\"enter the lenght\"))\n",
    "a=3.14*r*l\n",
    "print(\"area of CSA cone is \",a)"
   ]
  },
  {
   "cell_type": "code",
   "execution_count": 15,
   "id": "a920f14e",
   "metadata": {},
   "outputs": [
    {
     "name": "stdout",
     "output_type": "stream",
     "text": [
      "enter the redius5\n",
      "enter the slant height3\n",
      "area of TSA right circular cone is  125.60000000000001\n"
     ]
    }
   ],
   "source": [
    "#WAP area of TSA ofright circular cone\n",
    "r=int(input(\"enter the redius\"))\n",
    "l=int(input(\"enter the slant height\"))\n",
    "a=3.14*r*(l+r)\n",
    "print(\"area of TSA right circular cone is \",a)"
   ]
  },
  {
   "cell_type": "code",
   "execution_count": 16,
   "id": "2c756653",
   "metadata": {},
   "outputs": [
    {
     "name": "stdout",
     "output_type": "stream",
     "text": [
      "enter the redius5\n",
      "area of sphere is  78.5\n"
     ]
    }
   ],
   "source": [
    "#WAP area of sphere\n",
    "r=int(input(\"enter the redius\"))\n",
    "\n",
    "a=3.14*(r*r)\n",
    "print(\"area of sphere is \",a)"
   ]
  },
  {
   "cell_type": "code",
   "execution_count": 17,
   "id": "0cb0b58f",
   "metadata": {},
   "outputs": [
    {
     "name": "stdout",
     "output_type": "stream",
     "text": [
      "enter the lenght5\n",
      "enter the breadth6\n",
      "enter the height2\n",
      "volume of cuboid is  60\n"
     ]
    }
   ],
   "source": [
    "# WAP volume of cuboid \n",
    "l=int(input(\"enter the lenght\"))\n",
    "b=int(input(\"enter the breadth\"))\n",
    "h=int(input(\"enter the height\"))\n",
    "a=l*b*h\n",
    "print(f\"volume of cuboid is  {a}\")"
   ]
  },
  {
   "cell_type": "code",
   "execution_count": 18,
   "id": "525f5735",
   "metadata": {},
   "outputs": [
    {
     "name": "stdout",
     "output_type": "stream",
     "text": [
      "enter the lenght5\n",
      "volume of cone is  125\n"
     ]
    }
   ],
   "source": [
    "# WAP volume of cone\n",
    "l=int(input(\"enter the lenght\"))\n",
    "\n",
    "a=l*l*l\n",
    "print(f\"volume of cone is  {a}\")"
   ]
  },
  {
   "cell_type": "code",
   "execution_count": 20,
   "id": "1819d29e",
   "metadata": {},
   "outputs": [
    {
     "name": "stdout",
     "output_type": "stream",
     "text": [
      "enter the redius2\n",
      "enter the height9\n",
      "volumne of  cyclinder is   113.04\n"
     ]
    }
   ],
   "source": [
    "#WAP volumne of  cyclinder\n",
    "r=int(input(\"enter the redius\"))\n",
    "h=int(input(\"enter the height\"))\n",
    "v=3.14*(r*r)*h\n",
    "print(\"volumne of  cyclinder is  \",v)"
   ]
  },
  {
   "cell_type": "code",
   "execution_count": 3,
   "id": "02fc9e6d",
   "metadata": {},
   "outputs": [
    {
     "name": "stdout",
     "output_type": "stream",
     "text": [
      "enter the redius5\n",
      "enter the height3\n",
      "volumne of  cyclinder is   78.5\n"
     ]
    }
   ],
   "source": [
    "#WAP volumne of  cone\n",
    "r=int(input(\"enter the redius\"))\n",
    "h=int(input(\"enter the height\"))\n",
    "v=1/3*(3.14*(r*r)*h)\n",
    "print(\"volumne of  cone is  \",v)"
   ]
  },
  {
   "cell_type": "code",
   "execution_count": 4,
   "id": "f364969c",
   "metadata": {},
   "outputs": [
    {
     "name": "stdout",
     "output_type": "stream",
     "text": [
      "enter the redius2\n",
      "volume of sphere is  33.49333333333333\n"
     ]
    }
   ],
   "source": [
    "#WAP volume of sphere\n",
    "r=int(input(\"enter the redius\"))\n",
    "\n",
    "v=4/3*(3.14*(r*r*r))\n",
    "print(\"volume of sphere is \",v)"
   ]
  },
  {
   "cell_type": "code",
   "execution_count": 5,
   "id": "7ccd1a92",
   "metadata": {},
   "outputs": [
    {
     "name": "stdout",
     "output_type": "stream",
     "text": [
      "lenght in cm5\n",
      "breadth in cm6\n",
      "perimeter of  ractangle is 60 cm^2\n"
     ]
    }
   ],
   "source": [
    "#perimeter of ractangle\n",
    "l=int(input(\"lenght in cm\"))\n",
    "b=int(input(\"breadth in cm\"))\n",
    "a=2*(l*b)\n",
    "print(f\"perimeter of  ractangle is {a} cm^2\")"
   ]
  },
  {
   "cell_type": "code",
   "execution_count": 9,
   "id": "bc78b8e6",
   "metadata": {},
   "outputs": [
    {
     "name": "stdout",
     "output_type": "stream",
     "text": [
      "enter the lenght is cm5\n",
      "area of square is  25\n"
     ]
    }
   ],
   "source": [
    "a=int(input(\"enter the lenght is cm\"))\n",
    "print(\"area of square is \",(a*a))"
   ]
  },
  {
   "cell_type": "code",
   "execution_count": 10,
   "id": "45647d6e",
   "metadata": {},
   "outputs": [
    {
     "name": "stdout",
     "output_type": "stream",
     "text": [
      "enter the height5\n",
      "enter the base5\n",
      "the area of triangle is  12.5\n"
     ]
    }
   ],
   "source": [
    "#area of triangle\n",
    "h=int(input(\"enter the height\"))\n",
    "b=int(input(\"enter the base\"))\n",
    "a=1/2*(b*h)\n",
    "print(\"the area of triangle is \",a)\n"
   ]
  },
  {
   "cell_type": "code",
   "execution_count": 12,
   "id": "2cb90bea",
   "metadata": {},
   "outputs": [
    {
     "name": "stdout",
     "output_type": "stream",
     "text": [
      "enter the 1st num5\n",
      "enter the 2nd num6\n",
      "enter the 3rd num8\n",
      "greatest nummber is  8\n"
     ]
    }
   ],
   "source": [
    "#find greatest number in 3 numbers\n",
    "\n",
    "a=int(input(\"enter the 1st num\"))\n",
    "b=int(input(\"enter the 2nd num\"))\n",
    "c=int(input(\"enter the 3rd num\"))\n",
    "\n",
    "if a>b:\n",
    "    if a>c:\n",
    "        print(\"the greatest number is\",a)\n",
    "    else:\n",
    "        print(\"the greatest number is \",c)\n",
    "        \n",
    "else:\n",
    "    if b>c:\n",
    "        print(\"the greatest number is \",b)\n",
    "    else:\n",
    "        print(\"greatest nummber is \",c)"
   ]
  },
  {
   "cell_type": "code",
   "execution_count": 14,
   "id": "3c1876eb",
   "metadata": {},
   "outputs": [
    {
     "name": "stdout",
     "output_type": "stream",
     "text": [
      "enter the first side of triangle5\n",
      "enter the 2nd side of triangle6\n",
      "enter the 3rd side of triangle6\n",
      "the perimeter of triangle is  17\n"
     ]
    }
   ],
   "source": [
    "#perimeter of triangle\n",
    "a=int(input(\"enter the first side of triangle\"))\n",
    "b=int(input(\"enter the 2nd side of triangle\"))\n",
    "c=int(input(\"enter the 3rd side of triangle\"))\n",
    "\n",
    "p=a+b+c\n",
    "print(\"the perimeter of triangle is \",p)\n"
   ]
  },
  {
   "cell_type": "code",
   "execution_count": 15,
   "id": "4deedd24",
   "metadata": {},
   "outputs": [
    {
     "name": "stdout",
     "output_type": "stream",
     "text": [
      "enter the 1st num55\n",
      "enter the 2nd num33\n",
      "enter the 3rd num44\n",
      "enter the 4th num5\n",
      "greatest number is 55\n"
     ]
    }
   ],
   "source": [
    "#find the greatest number in 4 number\n",
    "a=int(input(\"enter the 1st num\"))\n",
    "b=int(input(\"enter the 2nd num\"))\n",
    "c=int(input(\"enter the 3rd num\"))\n",
    "d=int(input(\"enter the 4th num\"))\n",
    "\n",
    "if(a>b and a>c and a>d):\n",
    "    print(\"greatest number is\",a)\n",
    "elif(b>d and b>c):\n",
    "    print(\"greatest number is \",d)\n",
    "elif (c>d):\n",
    "    print(\"greatest number is \",c)\n",
    "elif(d>c):\n",
    "    print(\"the gretest number is\",d)\n",
    "    \n",
    "else:\n",
    "    print(\"Either any two values or all the four values are equal \")\n"
   ]
  },
  {
   "cell_type": "code",
   "execution_count": 1,
   "id": "46501588",
   "metadata": {},
   "outputs": [
    {
     "name": "stdout",
     "output_type": "stream",
     "text": [
      "enter marks out of 300200\n",
      "percentage is 66.66666666666666 %\n",
      "your division is first\n"
     ]
    }
   ],
   "source": [
    "#to check division in result\n",
    "a=int(input(\"enter marks out of 300\"))\n",
    "b=a/300*100\n",
    "print(\"percentage is\",b,\"%\")\n",
    "if(a>300):\n",
    "    print(\"you entered wrong marks\")\n",
    "elif(b>60):\n",
    "    print(\"your division is first\")\n",
    "elif(b>50and b<60):\n",
    "    print(\"your division is second\")\n",
    "elif(b>33 and b<50):\n",
    "    print(\"your division is third\")\n",
    "    \n",
    "else:\n",
    "    print(\"fail\")\n",
    "    \n"
   ]
  },
  {
   "cell_type": "code",
   "execution_count": 9,
   "id": "20e2c322",
   "metadata": {},
   "outputs": [
    {
     "name": "stdout",
     "output_type": "stream",
     "text": [
      "enter your age45\n",
      "mature\n"
     ]
    }
   ],
   "source": [
    "#to check age criteria\n",
    "y=int(input(\"enter your age\"))\n",
    "if(y>0 and y <12):\n",
    "    print(\"kid\")\n",
    "elif(y>=12 and y<=19):\n",
    "    print(\"teenager\")\n",
    "elif(y>=19and y<=30):\n",
    "    print(\"young\")\n",
    "elif(y>=30 and y<=45):\n",
    "    print(\"mature\")\n",
    "elif (y>=45and y<=60):\n",
    "        print(\"experience\")\n",
    "elif(y>=60 and y<=75):\n",
    "    print(\"old\")\n",
    "elif(y>=75):\n",
    "    print(\"sinior citizen\")\n",
    "        "
   ]
  },
  {
   "cell_type": "code",
   "execution_count": 12,
   "id": "c7d5b16d",
   "metadata": {},
   "outputs": [
    {
     "name": "stdout",
     "output_type": "stream",
     "text": [
      "enter the number10\n",
      "the sum of number is  55\n"
     ]
    }
   ],
   "source": [
    "#sum of nth number\n",
    "n=int(input(\"enter the number\"))\n",
    "s=0\n",
    "for i in range(1,n+1):\n",
    "    s=i+s\n",
    "print(\"the sum of number is \",s)"
   ]
  },
  {
   "cell_type": "code",
   "execution_count": 14,
   "id": "bfdc3ffb",
   "metadata": {},
   "outputs": [
    {
     "name": "stdout",
     "output_type": "stream",
     "text": [
      "enter a number5\n",
      "the factorial of 5 is 120\n"
     ]
    }
   ],
   "source": [
    "#value of factorial\n",
    "\n",
    "a=int(input(\"enter a number\"))\n",
    "factorial=1\n",
    "if a<0:\n",
    "    print(\"sorry factorial not take negative value\")\n",
    "elif a==0:\n",
    "    print(\"factorial of 0 is 1\")\n",
    "else:\n",
    "    for i in range(1,a+1):\n",
    "        factorial=factorial*i\n",
    "        \n",
    "        \n",
    "    print(f\"the factorial of {a} is {factorial}\")\n",
    "        "
   ]
  },
  {
   "cell_type": "code",
   "execution_count": 16,
   "id": "07d4b1d7",
   "metadata": {},
   "outputs": [
    {
     "name": "stdout",
     "output_type": "stream",
     "text": [
      "enter the number which mutiplication table you want45\n",
      "45X1==45\n",
      "45X2==90\n",
      "45X3==135\n",
      "45X4==180\n",
      "45X5==225\n",
      "45X6==270\n",
      "45X7==315\n",
      "45X8==360\n",
      "45X9==405\n",
      "45X10==450\n"
     ]
    }
   ],
   "source": [
    "#write the mutiplication table\n",
    "\n",
    "a=int(input(\"enter the number which mutiplication table you want\"))\n",
    "\n",
    "for i in range(1,11):\n",
    "    print(f\"{a}X{i}=={a*i}\")"
   ]
  },
  {
   "cell_type": "code",
   "execution_count": 18,
   "id": "3aa30cbb",
   "metadata": {},
   "outputs": [
    {
     "name": "stdout",
     "output_type": "stream",
     "text": [
      "enter the number rows5\n",
      "*****\n",
      "****\n",
      "***\n",
      "**\n",
      "*\n"
     ]
    }
   ],
   "source": [
    "#print opposite right angle triangle\n",
    "num=int(input(\"enter the number rows\"))\n",
    "for i in range(num,0,-1):\n",
    "    for j in range(0,i):\n",
    "        print(\"*\",end=\"\")\n",
    "    print()"
   ]
  },
  {
   "cell_type": "code",
   "execution_count": 21,
   "id": "72278b3c",
   "metadata": {},
   "outputs": [
    {
     "name": "stdout",
     "output_type": "stream",
     "text": [
      "enter the number rows5\n",
      "     *\n",
      "    **\n",
      "   ***\n",
      "  ****\n",
      " *****\n"
     ]
    }
   ],
   "source": [
    "#to print star pattern of opposite triangle\n",
    "num=int(input(\"enter the number rows\"))\n",
    "for i in range(0,num):\n",
    "    for j in range(0,num-i):\n",
    "        print(\" \",end=\"\")\n",
    "        \n",
    "    for k in range(0,i+1):\n",
    "        print(\"*\",end=\"\")\n",
    "        \n",
    "    print(\"\")\n",
    "    "
   ]
  },
  {
   "cell_type": "code",
   "execution_count": 22,
   "id": "2b1520d7",
   "metadata": {},
   "outputs": [
    {
     "name": "stdout",
     "output_type": "stream",
     "text": [
      "enter the no of rows10\n",
      "1\n",
      "12\n",
      "123\n",
      "1234\n",
      "12345\n",
      "123456\n",
      "1234567\n",
      "12345678\n",
      "123456789\n",
      "12345678910\n"
     ]
    }
   ],
   "source": [
    "# to print pattern 1,12,123\n",
    "n=int(input(\"enter the no of rows\"))\n",
    "for i in range(1,n+1):\n",
    "    for j in range(1,i+1):\n",
    "        print(j,end=\"\")\n",
    "        \n",
    "    print()"
   ]
  },
  {
   "cell_type": "code",
   "execution_count": null,
   "id": "ef1e4273",
   "metadata": {},
   "outputs": [],
   "source": []
  }
 ],
 "metadata": {
  "kernelspec": {
   "display_name": "Python 3 (ipykernel)",
   "language": "python",
   "name": "python3"
  },
  "language_info": {
   "codemirror_mode": {
    "name": "ipython",
    "version": 3
   },
   "file_extension": ".py",
   "mimetype": "text/x-python",
   "name": "python",
   "nbconvert_exporter": "python",
   "pygments_lexer": "ipython3",
   "version": "3.9.18"
  }
 },
 "nbformat": 4,
 "nbformat_minor": 5
}
